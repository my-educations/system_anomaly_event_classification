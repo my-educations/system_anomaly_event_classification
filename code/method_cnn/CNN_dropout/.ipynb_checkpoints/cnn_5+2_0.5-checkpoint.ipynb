{
 "cells": [
  {
   "cell_type": "code",
   "execution_count": 1,
   "metadata": {},
   "outputs": [
    {
     "name": "stderr",
     "output_type": "stream",
     "text": [
      "/usr/local/lib/python2.7/dist-packages/sklearn/cross_validation.py:44: DeprecationWarning: This module was deprecated in version 0.18 in favor of the model_selection module into which all the refactored classes and functions are moved. Also note that the interface of the new CV iterators are different from that of this module. This module will be removed in 0.20.\n",
      "  \"This module will be removed in 0.20.\", DeprecationWarning)\n"
     ]
    }
   ],
   "source": [
    "import os\n",
    "import numpy as np\n",
    "import matplotlib.pyplot as plt\n",
    "from sklearn import cross_validation, metrics\n",
    "import tensorflow as tf"
   ]
  },
  {
   "cell_type": "markdown",
   "metadata": {},
   "source": [
    "# run environment"
   ]
  },
  {
   "cell_type": "code",
   "execution_count": 2,
   "metadata": {
    "collapsed": true
   },
   "outputs": [],
   "source": [
    "os.environ[\"CUDA_VISIBLE_DEVICES\"] = \"1\"\n",
    "gpu_options = tf.GPUOptions(per_process_gpu_memory_fraction = 0.4)\n",
    "sess_config = tf.ConfigProto(gpu_options=gpu_options)"
   ]
  },
  {
   "cell_type": "markdown",
   "metadata": {},
   "source": [
    "# label"
   ]
  },
  {
   "cell_type": "code",
   "execution_count": 3,
   "metadata": {
    "collapsed": true
   },
   "outputs": [],
   "source": [
    "labels = {'0':'file', '1':'network', '2':'service', '3':'database', '4':'communication', '5':'memory', '6':'driver', \n",
    "    '7':'system', '8':'application', '9':'io', '10':'others', '11':'security', '12':'disk', '13':'processor'}\n",
    "\n",
    "fault_label = {'0':'file', '1':'network', '2':'service', '3':'database', '4':'communication', '5':'memory', '6':'driver', \n",
    "    '7':'system','9':'io', '10':'others', '11':'security', '12':'disk', '13':'processor'}"
   ]
  },
  {
   "cell_type": "markdown",
   "metadata": {},
   "source": [
    "# load data"
   ]
  },
  {
   "cell_type": "code",
   "execution_count": 4,
   "metadata": {},
   "outputs": [
    {
     "name": "stdout",
     "output_type": "stream",
     "text": [
      "Dataset separated.\n",
      "\n",
      "((80000, 10, 14, 1), (80000, 14), (20000, 10, 14, 1), (20000, 14))\n"
     ]
    }
   ],
   "source": [
    "def one_hot(y):\n",
    "    y = y.reshape(len(y))\n",
    "    n_values = np.max(y) + 1\n",
    "    return np.eye(n_values)[np.array(y, dtype=np.int32)]  # Returns FLOATS\n",
    "\n",
    "\n",
    "def load_X(X_path):\n",
    "    X_list = []\n",
    "    file = open(X_path, 'r')\n",
    "    # Read dataset from disk, dealing with text files' syntax\n",
    "    X_signal = [np.array(item, dtype=np.float32) for item in [\n",
    "               line.strip().split('\\t') for line in file]]\n",
    "    X_list.append(X_signal)\n",
    "    file.close()\n",
    "    return np.transpose(np.array(X_list), (1, 2, 0))\n",
    "\n",
    "\n",
    "# Load \"y\" (the neural network's training and testing outputs)\n",
    "def load_y(y_path):\n",
    "    file = open(y_path, 'r')\n",
    "    # Read dataset from disk, dealing with text file's syntax\n",
    "    y_ = np.array([elem for elem in [line.strip().split('\\t') for line in file]], \n",
    "                  dtype=np.int32)\n",
    "    file.close()\n",
    "    # Substract 1 to each output class for friendly 0-based indexing\n",
    "    return one_hot(y_-1)\n",
    "\n",
    "\n",
    "dataset_path = \"../data_msg_type/\"\n",
    "trainX_path = dataset_path + \"semantic_train_x.txt\"\n",
    "trainY_path = dataset_path + \"semantic_train_y.txt\"\n",
    "testX_path = dataset_path + \"semantic_test_x.txt\"\n",
    "testY_path = dataset_path + \"semantic_test_y.txt\"\n",
    "\n",
    "\n",
    "train_x = load_X(trainX_path)\n",
    "train_y = load_y(trainY_path)\n",
    "test_x = load_X(testX_path)\n",
    "test_y = load_y(testY_path)\n",
    "\n",
    "train_x = train_x.reshape(len(train_x), 10, 14, 1)\n",
    "test_x = test_x.reshape(len(test_x), 10, 14, 1)\n",
    "\n",
    "'''\n",
    "# Separate our training data into test and training.\n",
    "print(\"Separating data into 80% training set & 20% test set...\")\n",
    "train_x, test_x, train_y, test_y = cross_validation.train_test_split(\n",
    "    x, y, test_size=0.2, random_state=33)#add random state here...\n",
    "'''\n",
    "\n",
    "print(\"Dataset separated.\\n\")\n",
    "print(train_x.shape, train_y.shape, test_x.shape, test_y.shape)"
   ]
  },
  {
   "cell_type": "markdown",
   "metadata": {},
   "source": [
    "# define parameters"
   ]
  },
  {
   "cell_type": "code",
   "execution_count": 5,
   "metadata": {
    "collapsed": true
   },
   "outputs": [],
   "source": [
    "learning_rate = 0.0001\n",
    "training_iters = 16000000\n",
    "batch_size = 1000\n",
    "display_step = 20000\n",
    "\n",
    "# Network Parameters\n",
    "input_height = 10\n",
    "input_width = 14\n",
    "num_channels = 1\n",
    "n_classes = 14\n",
    "dropout = 0.5 # Dropout, probability to keep units"
   ]
  },
  {
   "cell_type": "markdown",
   "metadata": {},
   "source": [
    "# network config"
   ]
  },
  {
   "cell_type": "code",
   "execution_count": 6,
   "metadata": {
    "collapsed": true
   },
   "outputs": [],
   "source": [
    "# Create some wrappers for simplicity\n",
    "def conv2d(x, W, b, strides=1):\n",
    "    # Conv2D wrapper, with bias and relu activation\n",
    "    x = tf.nn.conv2d(x, W, strides=[1, strides, strides, 1], padding='SAME')\n",
    "    x = tf.nn.bias_add(x, b)\n",
    "    return tf.nn.relu(x)\n",
    "\n",
    "\n",
    "def maxpool2d(x, k=2):\n",
    "    # MaxPool2D wrapper\n",
    "    return tf.nn.max_pool(x, ksize=[1, k, k, 1], strides=[1, k, k, 1], padding='SAME')\n",
    "\n",
    "\n",
    "# Create model\n",
    "def conv_net(x, weights, biases, dropout):\n",
    "    # Reshape input picture\n",
    "    x = tf.reshape(x, shape=[-1, 10, 14, 1])\n",
    "\n",
    "    # Convolution Layer\n",
    "    conv1 = conv2d(x, weights['wc1'], biases['bc1'])\n",
    "    # Max Pooling (down-sampling)\n",
    "    conv1 = maxpool2d(conv1, k=2)\n",
    "    print(conv1.shape)\n",
    "\n",
    "    # Convolution Layer\n",
    "    conv2 = conv2d(conv1, weights['wc2'], biases['bc2'])\n",
    "    # Max Pooling (down-sampling)\n",
    "    conv2 = maxpool2d(conv2, k=2)\n",
    "    print(conv2.shape)\n",
    "    \n",
    "    # Convolution Layer\n",
    "    conv3 = conv2d(conv2, weights['wc3'], biases['bc3'])\n",
    "    conv4 = conv2d(conv3, weights['wc4'], biases['bc4'])\n",
    "    conv5 = conv2d(conv4, weights['wc5'], biases['bc5'])\n",
    "    # Max Pooling (down-sampling)\n",
    "    conv5 = maxpool2d(conv5, k=2)\n",
    "    print(conv3.shape)\n",
    "    print(conv4.shape)\n",
    "    print(conv5.shape)\n",
    "\n",
    "    # Reshape conv2 output to fit fully connected layer input\n",
    "    fc1 = tf.reshape(conv5, [-1, weights['wd1'].get_shape().as_list()[0]])\n",
    "    \n",
    "    # Fully connected layer\n",
    "    fc1 = tf.add(tf.matmul(fc1, weights['wd1']), biases['bd1'])\n",
    "    fc1 = tf.nn.relu(fc1)\n",
    "    fc1 = tf.nn.dropout(fc1, dropout)\n",
    "    print(fc1.shape)\n",
    "    fc2 = tf.add(tf.matmul(fc1, weights['wd2']), biases['bd2'])\n",
    "    fc2 = tf.nn.relu(fc2)\n",
    "    fc2 = tf.nn.dropout(fc2, dropout)\n",
    "    print(fc2.shape)\n",
    "\n",
    "    # Output, class prediction\n",
    "    fc3 = tf.add(tf.matmul(fc2, weights['out']), biases['out'])\n",
    "    print(fc3.shape)\n",
    "    return fc3\n",
    "\n",
    "# Store layers weight & bias\n",
    "weights = {\n",
    "    # 3x4 conv, 1 input, 32 outputs\n",
    "    'wc1': tf.Variable(tf.random_normal([3, 4, 1, 32])),\n",
    "    # 3x4 conv, 32 inputs, 64 outputs\n",
    "    'wc2': tf.Variable(tf.random_normal([3, 4, 32, 64])),\n",
    "    # 3x4 conv, 64 inputs, 64 outputs\n",
    "    'wc3': tf.Variable(tf.random_normal([3, 4, 64, 64])),\n",
    "    # 3x4 conv, 64 inputs, 32 outputs\n",
    "    'wc4': tf.Variable(tf.random_normal([3, 4, 64, 32])),\n",
    "    # 3x4 conv, 32 inputs, 64 outputs\n",
    "    'wc5': tf.Variable(tf.random_normal([3, 4, 32, 64])),\n",
    "    # fully connected, 2*2*64 inputs, 1024 outputs\n",
    "    'wd1': tf.Variable(tf.random_normal([2*2*64, 1024])),\n",
    "    # fully connected, 1024 inputs, 512 outputs\n",
    "    'wd2': tf.Variable(tf.random_normal([1024, 512])),\n",
    "    # 512 inputs, 14outputs (class prediction)\n",
    "    'out': tf.Variable(tf.random_normal([512, n_classes]))\n",
    "}\n",
    "\n",
    "biases = {\n",
    "    'bc1': tf.Variable(tf.random_normal([32])),\n",
    "    'bc2': tf.Variable(tf.random_normal([64])),\n",
    "    'bc3': tf.Variable(tf.random_normal([64])),\n",
    "    'bc4': tf.Variable(tf.random_normal([32])),\n",
    "    'bc5': tf.Variable(tf.random_normal([64])),\n",
    "    'bd1': tf.Variable(tf.random_normal([1024])),\n",
    "    'bd2': tf.Variable(tf.random_normal([512])),\n",
    "    'out': tf.Variable(tf.random_normal([n_classes]))\n",
    "}"
   ]
  },
  {
   "cell_type": "markdown",
   "metadata": {},
   "source": [
    "# build model"
   ]
  },
  {
   "cell_type": "code",
   "execution_count": 7,
   "metadata": {},
   "outputs": [
    {
     "name": "stdout",
     "output_type": "stream",
     "text": [
      "(?, 5, 7, 32)\n",
      "(?, 3, 4, 64)\n",
      "(?, 3, 4, 64)\n",
      "(?, 3, 4, 32)\n",
      "(?, 2, 2, 64)\n",
      "(?, 1024)\n",
      "(?, 512)\n",
      "(?, 14)\n"
     ]
    }
   ],
   "source": [
    "x = tf.placeholder(tf.float32, [None,input_height,input_width,num_channels])\n",
    "y = tf.placeholder(tf.float32, [None, n_classes])\n",
    "keep_prob = tf.placeholder(tf.float32) #dropout (keep probability)\n",
    "\n",
    "pred = conv_net(x, weights, biases, keep_prob)\n",
    "\n",
    "# Define loss and optimizer\n",
    "cost = tf.reduce_mean(tf.nn.softmax_cross_entropy_with_logits(logits=pred, labels=y))\n",
    "optimizer = tf.train.AdamOptimizer(learning_rate=learning_rate).minimize(cost)\n",
    "\n",
    "# Evaluate model\n",
    "correct_pred = tf.equal(tf.argmax(pred, 1), tf.argmax(y, 1))\n",
    "accuracy = tf.reduce_mean(tf.cast(correct_pred, tf.float32))"
   ]
  },
  {
   "cell_type": "markdown",
   "metadata": {},
   "source": [
    "# train and test"
   ]
  },
  {
   "cell_type": "code",
   "execution_count": null,
   "metadata": {
    "scrolled": true
   },
   "outputs": [
    {
     "name": "stdout",
     "output_type": "stream",
     "text": [
      "Training epochs #1000: Batch Loss = 1160201088.000000, Accuracy = 0.0270000007004\n",
      "Performance on test set: Training epochs #1000, Batch Loss = 325935136.0, Accuracy = 0.131999999285\n",
      "Training epochs #20000: Batch Loss = 758705792.000000, Accuracy = 0.0519999936223\n",
      "Performance on test set: Training epochs #20000, Batch Loss = 112103512.0, Accuracy = 0.0\n",
      "Training epochs #40000: Batch Loss = 263471520.000000, Accuracy = 0.226999983191\n",
      "Performance on test set: Training epochs #40000, Batch Loss = 18925092.0, Accuracy = 0.805000066757\n",
      "Training epochs #60000: Batch Loss = 188875760.000000, Accuracy = 0.379999995232\n",
      "Performance on test set: Training epochs #60000, Batch Loss = 33056902.0, Accuracy = 0.805000066757\n",
      "Training epochs #80000: Batch Loss = 140120656.000000, Accuracy = 0.495000004768\n",
      "Performance on test set: Training epochs #80000, Batch Loss = 45507476.0, Accuracy = 0.804999947548\n",
      "Training epochs #100000: Batch Loss = 600350592.000000, Accuracy = 0.0379999987781\n",
      "Performance on test set: Training epochs #100000, Batch Loss = 27748334.0, Accuracy = 0.805000066757\n",
      "Training epochs #120000: Batch Loss = 133134960.000000, Accuracy = 0.418999999762\n",
      "Performance on test set: Training epochs #120000, Batch Loss = 21840612.0, Accuracy = 0.805000066757\n",
      "Training epochs #140000: Batch Loss = 113364144.000000, Accuracy = 0.503000020981\n",
      "Performance on test set: Training epochs #140000, Batch Loss = 26606596.0, Accuracy = 0.805000066757\n",
      "Training epochs #160000: Batch Loss = 85364088.000000, Accuracy = 0.608999967575\n",
      "Performance on test set: Training epochs #160000, Batch Loss = 29056536.0, Accuracy = 0.805000066757\n",
      "Training epochs #180000: Batch Loss = 439781696.000000, Accuracy = 0.0489999987185\n",
      "Performance on test set: Training epochs #180000, Batch Loss = 12562620.0, Accuracy = 0.942999958992\n",
      "Training epochs #200000: Batch Loss = 87985696.000000, Accuracy = 0.475999981165\n",
      "Performance on test set: Training epochs #200000, Batch Loss = 10521421.0, Accuracy = 0.943000018597\n",
      "Training epochs #220000: Batch Loss = 68902648.000000, Accuracy = 0.588999986649\n",
      "Performance on test set: Training epochs #220000, Batch Loss = 12844732.0, Accuracy = 0.942999958992\n",
      "Training epochs #240000: Batch Loss = 66078944.000000, Accuracy = 0.613999962807\n",
      "Performance on test set: Training epochs #240000, Batch Loss = 14693636.0, Accuracy = 0.943000078201\n",
      "Training epochs #260000: Batch Loss = 337076768.000000, Accuracy = 0.0790000110865\n",
      "Performance on test set: Training epochs #260000, Batch Loss = 10248972.0, Accuracy = 0.943000018597\n",
      "Training epochs #280000: Batch Loss = 66626184.000000, Accuracy = 0.527000010014\n",
      "Performance on test set: Training epochs #280000, Batch Loss = 8918778.0, Accuracy = 0.942999958992\n",
      "Training epochs #300000: Batch Loss = 56851352.000000, Accuracy = 0.572000026703\n",
      "Performance on test set: Training epochs #300000, Batch Loss = 10655835.0, Accuracy = 0.943000018597\n",
      "Training epochs #320000: Batch Loss = 38472640.000000, Accuracy = 0.67099994421\n",
      "Performance on test set: Training epochs #320000, Batch Loss = 12132229.0, Accuracy = 0.942999958992\n",
      "Training epochs #340000: Batch Loss = 279777312.000000, Accuracy = 0.0839999988675\n",
      "Performance on test set: Training epochs #340000, Batch Loss = 8689593.0, Accuracy = 0.943000078201\n",
      "Training epochs #360000: Batch Loss = 49445680.000000, Accuracy = 0.543000042439\n",
      "Performance on test set: Training epochs #360000, Batch Loss = 7636034.0, Accuracy = 0.943000018597\n",
      "Training epochs #380000: Batch Loss = 41162360.000000, Accuracy = 0.644000053406\n",
      "Performance on test set: Training epochs #380000, Batch Loss = 9347090.0, Accuracy = 0.943000018597\n",
      "Training epochs #400000: Batch Loss = 34677336.000000, Accuracy = 0.708000004292\n",
      "Performance on test set: Training epochs #400000, Batch Loss = 10507724.0, Accuracy = 0.943000018597\n",
      "Training epochs #420000: Batch Loss = 217136576.000000, Accuracy = 0.109000004828\n",
      "Performance on test set: Training epochs #420000, Batch Loss = 7327341.5, Accuracy = 0.943000078201\n",
      "Training epochs #440000: Batch Loss = 39944724.000000, Accuracy = 0.578999996185\n",
      "Performance on test set: Training epochs #440000, Batch Loss = 6427989.0, Accuracy = 0.943000018597\n",
      "Training epochs #460000: Batch Loss = 30202648.000000, Accuracy = 0.666999995708\n",
      "Performance on test set: Training epochs #460000, Batch Loss = 7850089.0, Accuracy = 0.943000018597\n",
      "Training epochs #480000: Batch Loss = 27006918.000000, Accuracy = 0.712999939919\n",
      "Performance on test set: Training epochs #480000, Batch Loss = 8915052.0, Accuracy = 0.943000078201\n",
      "Training epochs #500000: Batch Loss = 182969584.000000, Accuracy = 0.123999997973\n",
      "Performance on test set: Training epochs #500000, Batch Loss = 6350747.0, Accuracy = 0.943000018597\n",
      "Training epochs #520000: Batch Loss = 31811546.000000, Accuracy = 0.625\n",
      "Performance on test set: Training epochs #520000, Batch Loss = 5483907.0, Accuracy = 0.942999958992\n",
      "Training epochs #540000: Batch Loss = 24140848.000000, Accuracy = 0.710999965668\n",
      "Performance on test set: Training epochs #540000, Batch Loss = 6620164.5, Accuracy = 0.942999958992\n",
      "Training epochs #560000: Batch Loss = 19992338.000000, Accuracy = 0.744000017643\n",
      "Performance on test set: Training epochs #560000, Batch Loss = 7499286.0, Accuracy = 0.943000078201\n",
      "Training epochs #580000: Batch Loss = 153124416.000000, Accuracy = 0.127000004053\n",
      "Performance on test set: Training epochs #580000, Batch Loss = 5202050.0, Accuracy = 0.943000018597\n",
      "Training epochs #600000: Batch Loss = 27783800.000000, Accuracy = 0.625\n",
      "Performance on test set: Training epochs #600000, Batch Loss = 4478435.5, Accuracy = 0.943000078201\n",
      "Training epochs #620000: Batch Loss = 19565992.000000, Accuracy = 0.690999984741\n",
      "Performance on test set: Training epochs #620000, Batch Loss = 5477425.5, Accuracy = 0.943000078201\n",
      "Training epochs #640000: Batch Loss = 15213065.000000, Accuracy = 0.771999955177\n",
      "Performance on test set: Training epochs #640000, Batch Loss = 6236283.0, Accuracy = 0.943000078201\n",
      "Training epochs #660000: Batch Loss = 122836560.000000, Accuracy = 0.149000003934\n",
      "Performance on test set: Training epochs #660000, Batch Loss = 4204517.0, Accuracy = 0.943000078201\n",
      "Training epochs #680000: Batch Loss = 20173306.000000, Accuracy = 0.632999956608\n",
      "Performance on test set: Training epochs #680000, Batch Loss = 3651346.0, Accuracy = 0.942999958992\n",
      "Training epochs #700000: Batch Loss = 18942392.000000, Accuracy = 0.685000061989\n",
      "Performance on test set: Training epochs #700000, Batch Loss = 4566113.5, Accuracy = 0.943000018597\n",
      "Training epochs #720000: Batch Loss = 13218594.000000, Accuracy = 0.789000034332\n",
      "Performance on test set: Training epochs #720000, Batch Loss = 5196421.0, Accuracy = 0.942999958992\n",
      "Training epochs #740000: Batch Loss = 113022080.000000, Accuracy = 0.158999994397\n",
      "Performance on test set: Training epochs #740000, Batch Loss = 3402591.75, Accuracy = 0.943000078201\n",
      "Training epochs #760000: Batch Loss = 19729476.000000, Accuracy = 0.662000000477\n",
      "Performance on test set: Training epochs #760000, Batch Loss = 3006890.25, Accuracy = 0.942999958992\n",
      "Training epochs #780000: Batch Loss = 13435150.000000, Accuracy = 0.727999925613\n",
      "Performance on test set: Training epochs #780000, Batch Loss = 3784908.0, Accuracy = 0.943000018597\n",
      "Training epochs #800000: Batch Loss = 11679065.000000, Accuracy = 0.761999905109\n",
      "Performance on test set: Training epochs #800000, Batch Loss = 4301572.5, Accuracy = 0.943000078201\n",
      "Training epochs #820000: Batch Loss = 87839896.000000, Accuracy = 0.196999996901\n",
      "Performance on test set: Training epochs #820000, Batch Loss = 2790289.5, Accuracy = 0.943000078201\n",
      "Training epochs #840000: Batch Loss = 14917078.000000, Accuracy = 0.683000028133\n",
      "Performance on test set: Training epochs #840000, Batch Loss = 2465733.0, Accuracy = 0.942999958992\n",
      "Training epochs #860000: Batch Loss = 10176643.000000, Accuracy = 0.768000006676\n",
      "Performance on test set: Training epochs #860000, Batch Loss = 3112320.5, Accuracy = 0.943000078201\n",
      "Training epochs #880000: Batch Loss = 8307496.000000, Accuracy = 0.81299996376\n",
      "Performance on test set: Training epochs #880000, Batch Loss = 3510465.75, Accuracy = 0.943000078201\n",
      "Training epochs #900000: Batch Loss = 74657968.000000, Accuracy = 0.194999992847\n",
      "Performance on test set: Training epochs #900000, Batch Loss = 2253564.0, Accuracy = 0.943000078201\n"
     ]
    },
    {
     "name": "stdout",
     "output_type": "stream",
     "text": [
      "Training epochs #920000: Batch Loss = 12499410.000000, Accuracy = 0.68900001049\n",
      "Performance on test set: Training epochs #920000, Batch Loss = 2026456.0, Accuracy = 0.949000000954\n",
      "Training epochs #940000: Batch Loss = 10270564.000000, Accuracy = 0.773000001907\n",
      "Performance on test set: Training epochs #940000, Batch Loss = 2521872.75, Accuracy = 0.942999958992\n",
      "Training epochs #960000: Batch Loss = 7788431.000000, Accuracy = 0.818000018597\n",
      "Performance on test set: Training epochs #960000, Batch Loss = 2917320.25, Accuracy = 0.942999958992\n",
      "Training epochs #980000: Batch Loss = 70040152.000000, Accuracy = 0.211999982595\n",
      "Performance on test set: Training epochs #980000, Batch Loss = 1888984.25, Accuracy = 0.949000060558\n",
      "Training epochs #1000000: Batch Loss = 10867502.000000, Accuracy = 0.740000069141\n",
      "Performance on test set: Training epochs #1000000, Batch Loss = 1754819.25, Accuracy = 0.949000060558\n",
      "Training epochs #1020000: Batch Loss = 8528805.000000, Accuracy = 0.783999979496\n",
      "Performance on test set: Training epochs #1020000, Batch Loss = 2086197.125, Accuracy = 0.943000078201\n",
      "Training epochs #1040000: Batch Loss = 7333729.000000, Accuracy = 0.821999967098\n",
      "Performance on test set: Training epochs #1040000, Batch Loss = 2355055.25, Accuracy = 0.942999958992\n",
      "Training epochs #1060000: Batch Loss = 63124652.000000, Accuracy = 0.207000002265\n",
      "Performance on test set: Training epochs #1060000, Batch Loss = 1606855.875, Accuracy = 0.949000000954\n",
      "Training epochs #1080000: Batch Loss = 8806730.000000, Accuracy = 0.731000006199\n",
      "Performance on test set: Training epochs #1080000, Batch Loss = 1520348.625, Accuracy = 0.949000120163\n",
      "Training epochs #1100000: Batch Loss = 8170384.000000, Accuracy = 0.803000032902\n",
      "Performance on test set: Training epochs #1100000, Batch Loss = 1751212.875, Accuracy = 0.949000120163\n",
      "Training epochs #1120000: Batch Loss = 7012496.000000, Accuracy = 0.815999984741\n",
      "Performance on test set: Training epochs #1120000, Batch Loss = 1904224.625, Accuracy = 0.943000018597\n",
      "Training epochs #1140000: Batch Loss = 52543336.000000, Accuracy = 0.247999995947\n",
      "Performance on test set: Training epochs #1140000, Batch Loss = 1376666.0, Accuracy = 0.949000000954\n",
      "Training epochs #1160000: Batch Loss = 6160147.500000, Accuracy = 0.785000085831\n",
      "Performance on test set: Training epochs #1160000, Batch Loss = 1346984.75, Accuracy = 0.949000000954\n",
      "Training epochs #1180000: Batch Loss = 6844296.000000, Accuracy = 0.806999981403\n",
      "Performance on test set: Training epochs #1180000, Batch Loss = 1561851.0, Accuracy = 0.949000000954\n",
      "Training epochs #1200000: Batch Loss = 5585856.500000, Accuracy = 0.826000034809\n",
      "Performance on test set: Training epochs #1200000, Batch Loss = 1662090.625, Accuracy = 0.949000060558\n",
      "Training epochs #1220000: Batch Loss = 51777888.000000, Accuracy = 0.231999993324\n",
      "Performance on test set: Training epochs #1220000, Batch Loss = 1208457.75, Accuracy = 0.949000120163\n",
      "Training epochs #1240000: Batch Loss = 6862274.500000, Accuracy = 0.752000033855\n",
      "Performance on test set: Training epochs #1240000, Batch Loss = 1200935.5, Accuracy = 0.961000025272\n",
      "Training epochs #1260000: Batch Loss = 5682248.500000, Accuracy = 0.817000031471\n",
      "Performance on test set: Training epochs #1260000, Batch Loss = 1402102.0, Accuracy = 0.961000025272\n",
      "Training epochs #1280000: Batch Loss = 3952486.000000, Accuracy = 0.868000090122\n",
      "Performance on test set: Training epochs #1280000, Batch Loss = 1505484.875, Accuracy = 0.961000025272\n"
     ]
    }
   ],
   "source": [
    "def extract_batch_size(_train, step, batch_size):   \n",
    "    # Function to fetch a \"batch_size\" amount of data from \"(X|y)_train\" data.    \n",
    "    shape = list(_train.shape)\n",
    "    shape[0] = batch_size\n",
    "    batch_s = np.empty(shape)\n",
    "    for i in range(batch_size):\n",
    "        # Loop index\n",
    "        index = ((step-1)*batch_size + i) % len(_train)\n",
    "        batch_s[i] = _train[index] \n",
    "    return batch_s\n",
    "\n",
    "\n",
    "test_losses = []\n",
    "test_accuracies = []\n",
    "test_predictions = []\n",
    "train_losses = []\n",
    "train_accuracies = []\n",
    "\n",
    "\n",
    "init = tf.global_variables_initializer()\n",
    "with tf.Session(config=sess_config) as sess:\n",
    "    sess.run(init)\n",
    "    \n",
    "    step = 1\n",
    "    # Keep training until reach max iterations\n",
    "    while step * batch_size <= training_iters:\n",
    "        batch_xs = extract_batch_size(train_x, step, batch_size)\n",
    "        batch_ys = extract_batch_size(train_y, step, batch_size)\n",
    "\n",
    "        # Fit training using batch data\n",
    "        _, loss, acc = sess.run([optimizer, cost, accuracy],\n",
    "                       feed_dict={x: batch_xs, y: batch_ys, keep_prob: dropout})\n",
    "\n",
    "        train_losses.append(loss)\n",
    "        train_accuracies.append(acc)  \n",
    "        \n",
    "        \n",
    "        batch_xt = extract_batch_size(test_x, step, batch_size)\n",
    "        batch_yt = extract_batch_size(test_y, step, batch_size)\n",
    "    \n",
    "        # Evaluation on the test set (no learning made here - just evaluation for diagnosis)\n",
    "        test_predict, test_loss, test_acc = sess.run([pred, cost, accuracy], \n",
    "                                            feed_dict={x: batch_xt, y: batch_yt, keep_prob: 1.})\n",
    "        \n",
    "        test_predictions.append(np.argmax(test_predict, axis=1))\n",
    "        test_losses.append(test_loss)\n",
    "        test_accuracies.append(test_acc)\n",
    "\n",
    "        # Evaluate network only at some steps for faster training: \n",
    "        if (step*batch_size % display_step == 0) or (step == 1) \\\n",
    "            or (step * batch_size > training_iters):\n",
    "\n",
    "            print(\"Training epochs #\" + str(step*batch_size) + \\\n",
    "                  \": Batch Loss = \" + \"{:.6f}\".format(loss) + \\\n",
    "                  \", Accuracy = {}\".format(acc))\n",
    "        \n",
    "            print(\"Performance on test set: \" + \"Training epochs #\" + str(step*batch_size) +\\\n",
    "                  \", Batch Loss = {}\".format(test_loss) + \", Accuracy = {}\".format(test_acc))\n",
    "        step += 1\n",
    "\n",
    "    print(\"Optimization Finished!\")"
   ]
  },
  {
   "cell_type": "markdown",
   "metadata": {},
   "source": [
    "# performance visualization"
   ]
  },
  {
   "cell_type": "code",
   "execution_count": 9,
   "metadata": {},
   "outputs": [
    {
     "data": {
      "image/png": "[encoded data removed]",
      "text/plain": [
       "<matplotlib.figure.Figure at 0x7fa4576ed6d0>"
      ]
     },
     "metadata": {},
     "output_type": "display_data"
    },
    {
     "data": {
      "text/plain": [
       "<matplotlib.figure.Figure at 0x7fa3e829fed0>"
      ]
     },
     "metadata": {},
     "output_type": "display_data"
    }
   ],
   "source": [
    "#font = {'family': 'Bitstream Vera Sans', 'weight': 'bold', 'size': 12}\n",
    "#matplotlib.rc('font', **font)\n",
    "width = 12\n",
    "height = 8\n",
    "plt.figure(figsize=(width, height))\n",
    "\n",
    "indep_train_axis = np.array(range(batch_size, \n",
    "                   (len(train_losses)+1)*batch_size, batch_size))\n",
    "plt.plot(indep_train_axis, np.array(train_losses), \"b--\", label=\"Train losses\")\n",
    "plt.plot(indep_train_axis, np.array(train_accuracies), \"g--\", label=\"Train accuracies\")\n",
    "\n",
    "indep_test_axis = np.append(np.array(range(batch_size, \n",
    "                  len(test_losses)*batch_size, batch_size)), training_iters)\n",
    "plt.plot(indep_test_axis, np.array(test_losses), \"b-\", label=\"Test losses\")\n",
    "plt.plot(indep_test_axis, np.array(test_accuracies), \"g-\", label=\"Test accuracies\")\n",
    "\n",
    "plt.title(\"Training session's progress over iterations\")\n",
    "plt.legend(loc='upper right', shadow=False)\n",
    "plt.ylabel('Training Progress (Loss or Accuracy values)')\n",
    "plt.xlabel('Training iteration')\n",
    "plt.savefig('result/lstm_loss_accuracy.png')\n",
    "plt.figure()\n",
    "plt.show()"
   ]
  },
  {
   "cell_type": "code",
   "execution_count": 10,
   "metadata": {},
   "outputs": [
    {
     "name": "stdout",
     "output_type": "stream",
     "text": [
      "Best Testing Accuracy: 100.000011921%\n",
      "\n",
      "Precision: 97.9519934706%\n",
      "Recall: 97.885%\n",
      "f1_score: 97.8638206703%\n",
      "\n",
      "Confusion Matrix:\n",
      "[[    5    13     0     0     0     0     0     0     0     0     0     0\n",
      "      0]\n",
      " [    5   792     0     0    27    49     0    10     0     0     0    28\n",
      "      0]\n",
      " [    0     0   213     0     0     0     0     0     0     0     0     0\n",
      "      0]\n",
      " [    0     2     0     0     0     0     0     0     0     0     0     0\n",
      "      0]\n",
      " [    0     4     0     0  2830    13     0    10     0     0     0    34\n",
      "      0]\n",
      " [    7    26     0     0     0   311     0     1     0     0     0     3\n",
      "      0]\n",
      " [    0     4     0     0     0     3 14486     0     0     0     0     2\n",
      "      0]\n",
      " [    0    45     0     0    35    43     0   399     0     0     1    12\n",
      "      0]\n",
      " [    0     0     0     0     0     0     0     0   132     0     0     0\n",
      "      0]\n",
      " [    0     0     0     0     0     0     0     0     0     2     0     2\n",
      "      0]\n",
      " [    0     0     0     0     0     0     0     0     0     0     8     0\n",
      "      0]\n",
      " [    0    25     0     0     1     5     0     3     0     0     0   399\n",
      "      0]\n",
      " [    0     0     0     0     0    10     0     0     0     0     0     0\n",
      "      0]]\n",
      "               precision    recall  f1-score   support\n",
      "\n",
      "     security       0.29      0.28      0.29        18\n",
      "       others       0.87      0.87      0.87       911\n",
      "    processor       1.00      1.00      1.00       213\n",
      "         disk       0.00      0.00      0.00         2\n",
      "      network       0.98      0.98      0.98      2891\n",
      "         file       0.72      0.89      0.80       348\n",
      "     database       1.00      1.00      1.00     14495\n",
      "      service       0.94      0.75      0.83       535\n",
      "       memory       1.00      1.00      1.00       132\n",
      "communication       1.00      0.50      0.67         4\n",
      "       system       0.89      1.00      0.94         8\n",
      "       driver       0.83      0.92      0.87       433\n",
      "           io       0.00      0.00      0.00        10\n",
      "\n",
      "  avg / total       0.98      0.98      0.98     20000\n",
      "\n"
     ]
    },
    {
     "name": "stderr",
     "output_type": "stream",
     "text": [
      "/usr/local/lib/python2.7/dist-packages/sklearn/metrics/classification.py:1113: UndefinedMetricWarning: Precision is ill-defined and being set to 0.0 in labels with no predicted samples.\n",
      "  'precision', 'predicted', average, warn_for)\n",
      "/usr/local/lib/python2.7/dist-packages/sklearn/metrics/classification.py:1113: UndefinedMetricWarning: F-score is ill-defined and being set to 0.0 in labels with no predicted samples.\n",
      "  'precision', 'predicted', average, warn_for)\n",
      "/usr/local/lib/python2.7/dist-packages/sklearn/metrics/classification.py:1113: UndefinedMetricWarning: Precision and F-score are ill-defined and being set to 0.0 in labels with no predicted samples.\n",
      "  'precision', 'predicted', average, warn_for)\n"
     ]
    },
    {
     "data": {
      "text/plain": [
       "<matplotlib.figure.Figure at 0x7fa474391dd0>"
      ]
     },
     "metadata": {},
     "output_type": "display_data"
    },
    {
     "data": {
      "image/png": "[encoded data removed]",
      "text/plain": [
       "<matplotlib.figure.Figure at 0x7fa41dfd8b10>"
      ]
     },
     "metadata": {},
     "output_type": "display_data"
    }
   ],
   "source": [
    "# Results\n",
    "predictions = []\n",
    "length = len(test_predictions)-20\n",
    "for i in range(20):\n",
    "    predictions.extend(test_predictions[length+i])\n",
    "\n",
    "true_y = np.argmax(test_y, axis=1)\n",
    "\n",
    "print(\"Best Testing Accuracy: {}%\".format(100*max(test_accuracies)))\n",
    "\n",
    "print(\"\")\n",
    "print(\"Precision: {}%\".format(100*metrics.precision_score(\n",
    "    true_y, predictions, average=\"weighted\")))\n",
    "print(\"Recall: {}%\".format(100*metrics.recall_score(true_y, \n",
    "    predictions, average=\"weighted\")))\n",
    "print(\"f1_score: {}%\".format(100*metrics.f1_score(true_y, \n",
    "    predictions, average=\"weighted\")))\n",
    "\n",
    "print(\"\")\n",
    "print(\"Confusion Matrix:\")\n",
    "confusion_matrix = metrics.confusion_matrix(true_y, predictions)\n",
    "print(confusion_matrix)\n",
    "\n",
    "# Plot: \n",
    "## cmap can be changed to many colors, (colormaps.Oranges,OrRd, etc)\n",
    "def plot_CM(cm, title=\"Normalized Confusion Matrix\", cmap=plt.cm.summer):\n",
    "    width = 12\n",
    "    height = 8\n",
    "    plt.figure(figsize=(width, height))\n",
    "    plt.imshow(cm, interpolation='nearest', cmap=cmap)\n",
    "    plt.title(title)\n",
    "    plt.colorbar()\n",
    "    tick_marks = np.arange(len(fault_label))\n",
    "    plt.xticks(tick_marks, fault_label.values(), rotation=90)\n",
    "    plt.yticks(tick_marks, fault_label.values())\n",
    "    plt.tight_layout()\n",
    "    plt.ylabel(\"True label\")\n",
    "    plt.xlabel(\"Predicted label\")\n",
    "    plt.show()\n",
    "    \n",
    "print(metrics.classification_report(\n",
    "    true_y, predictions, target_names = list(labels.values())))\n",
    "\n",
    "cm = confusion_matrix\n",
    "\n",
    "cm_normalized = cm.astype('float') / cm.sum(axis=1)[:,np.newaxis]\n",
    "plt.figure()\n",
    "plot_CM(cm_normalized)"
   ]
  },
  {
   "cell_type": "code",
   "execution_count": null,
   "metadata": {
    "collapsed": true
   },
   "outputs": [],
   "source": []
  },
  {
   "cell_type": "code",
   "execution_count": null,
   "metadata": {
    "collapsed": true
   },
   "outputs": [],
   "source": []
  }
 ],
 "metadata": {
  "kernelspec": {
   "display_name": "Python 2",
   "language": "python",
   "name": "python2"
  },
  "language_info": {
   "codemirror_mode": {
    "name": "ipython",
    "version": 2
   },
   "file_extension": ".py",
   "mimetype": "text/x-python",
   "name": "python",
   "nbconvert_exporter": "python",
   "pygments_lexer": "ipython2",
   "version": "2.7.12"
  }
 },
 "nbformat": 4,
 "nbformat_minor": 2
}
